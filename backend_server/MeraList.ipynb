{
 "cells": [
  {
   "cell_type": "code",
   "execution_count": 1,
   "metadata": {},
   "outputs": [],
   "source": [
    "import ctypes"
   ]
  },
  {
   "cell_type": "code",
   "execution_count": 2,
   "metadata": {},
   "outputs": [],
   "source": [
    "class CustomIndexError(Exception):\n",
    "    def __init__(self, message):\n",
    "        self.message = message\n",
    "        super().__init__(self.message)\n",
    "\n",
    "class MearaList:\n",
    "    \n",
    "    def __init__(self):\n",
    "        self.size = 1\n",
    "        self.n = 0\n",
    "        self.A = self.__make_array(self.size)\n",
    "    \n",
    "    def __len__(self):\n",
    "        return self.n\n",
    "    \n",
    "    def __str__(self) -> str:\n",
    "        result = \"\"\n",
    "        for i in range(self.n):\n",
    "            result = result+str(self.A[i])+\",\"\n",
    "        result = result[:-1]\n",
    "        return f\"[{result}]\"\n",
    "    \n",
    "    def __getitem__(self,index):\n",
    "        if 0 <= index < self.n:\n",
    "            return self.A[index]\n",
    "        else:\n",
    "            raise IndexError\n",
    "        \n",
    "    def pop(self, index=None):\n",
    "        if self.n == 0:\n",
    "            return \"[]\"\n",
    "\n",
    "        if index is None:\n",
    "            popped_item = self.A[self.n - 1]\n",
    "            self.n = self.n - 1\n",
    "            print(popped_item)\n",
    "        elif 0 <= index < self.n:\n",
    "            popped_item = self.A[index]\n",
    "            for i in range(index, self.n - 1):\n",
    "                self.A[i] = self.A[i + 1]\n",
    "            self.n = self.n - 1\n",
    "            print(popped_item)\n",
    "        else:\n",
    "            raise CustomIndexError(\"Index out of range\")\n",
    "        \n",
    "            \n",
    "    def append(self,item):\n",
    "        if self.n == self.size:\n",
    "            self.__resize(self.size*2)\n",
    "    \n",
    "        self.A[self.n] = item\n",
    "        self.n += 1\n",
    "\n",
    "    def __resize(self,new_size):\n",
    "        B = self.__make_array(new_size)\n",
    "        self.size = new_size\n",
    "\n",
    "        for i in range(self.n):\n",
    "            B[i] = self.A[i]\n",
    "\n",
    "        self.A = B\n",
    "\n",
    "    def __make_array(self,size):\n",
    "        return (size*ctypes.py_object)()\n",
    "    "
   ]
  },
  {
   "cell_type": "code",
   "execution_count": 17,
   "metadata": {},
   "outputs": [],
   "source": [
    "L = MearaList()"
   ]
  },
  {
   "cell_type": "code",
   "execution_count": 20,
   "metadata": {},
   "outputs": [
    {
     "data": {
      "text/plain": [
       "4"
      ]
     },
     "execution_count": 20,
     "metadata": {},
     "output_type": "execute_result"
    }
   ],
   "source": [
    "len(L)"
   ]
  },
  {
   "cell_type": "code",
   "execution_count": 19,
   "metadata": {},
   "outputs": [],
   "source": [
    "L.append(\"Hello\")\n",
    "L.append(3.4)\n",
    "L.append(100)\n",
    "L.append(True)"
   ]
  },
  {
   "cell_type": "code",
   "execution_count": 27,
   "metadata": {},
   "outputs": [
    {
     "name": "stdout",
     "output_type": "stream",
     "text": [
      "[Hello,100,True]\n"
     ]
    }
   ],
   "source": [
    "print(L)"
   ]
  },
  {
   "cell_type": "code",
   "execution_count": 24,
   "metadata": {},
   "outputs": [
    {
     "data": {
      "text/plain": [
       "'Hello'"
      ]
     },
     "execution_count": 24,
     "metadata": {},
     "output_type": "execute_result"
    }
   ],
   "source": [
    "L[0]"
   ]
  },
  {
   "cell_type": "code",
   "execution_count": 26,
   "metadata": {},
   "outputs": [
    {
     "name": "stdout",
     "output_type": "stream",
     "text": [
      "3.4\n"
     ]
    }
   ],
   "source": [
    "L\n",
    "L.pop(1)"
   ]
  }
 ],
 "metadata": {
  "kernelspec": {
   "display_name": "\"Python/Mu (mu_venv-38-20230922-165815)\"",
   "language": "python",
   "name": "mu_venv-38-20230922-165815"
  },
  "language_info": {
   "codemirror_mode": {
    "name": "ipython",
    "version": 3
   },
   "file_extension": ".py",
   "mimetype": "text/x-python",
   "name": "python",
   "nbconvert_exporter": "python",
   "pygments_lexer": "ipython3",
   "version": "3.8.12"
  }
 },
 "nbformat": 4,
 "nbformat_minor": 2
}
